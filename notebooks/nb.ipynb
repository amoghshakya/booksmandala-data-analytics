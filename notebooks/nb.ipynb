{
 "cells": [
  {
   "cell_type": "code",
   "execution_count": 5,
   "id": "92883fad-b302-4da2-95f4-dea362512785",
   "metadata": {},
   "outputs": [],
   "source": [
    "import pandas as pd\n",
    "\n",
    "import plotly.express as px\n",
    "import plotly.figure_factory as ff\n",
    "import plotly.graph_objs as go\n",
    "from plotly.subplots import make_subplots"
   ]
  },
  {
   "cell_type": "markdown",
   "id": "66d8b6e1-466c-46e0-ac76-13972c125089",
   "metadata": {},
   "source": [
    "# Dataset Loading"
   ]
  },
  {
   "cell_type": "code",
   "execution_count": 6,
   "id": "5f4e2367-8d53-40fd-a104-541ff7a84e36",
   "metadata": {},
   "outputs": [
    {
     "data": {
      "text/html": [
       "<div>\n",
       "<style scoped>\n",
       "    .dataframe tbody tr th:only-of-type {\n",
       "        vertical-align: middle;\n",
       "    }\n",
       "\n",
       "    .dataframe tbody tr th {\n",
       "        vertical-align: top;\n",
       "    }\n",
       "\n",
       "    .dataframe thead th {\n",
       "        text-align: right;\n",
       "    }\n",
       "</style>\n",
       "<table border=\"1\" class=\"dataframe\">\n",
       "  <thead>\n",
       "    <tr style=\"text-align: right;\">\n",
       "      <th></th>\n",
       "      <th>Title</th>\n",
       "      <th>Author</th>\n",
       "      <th>Price</th>\n",
       "      <th>Rating</th>\n",
       "      <th>Limited Stock</th>\n",
       "      <th>Discount</th>\n",
       "      <th>Genre</th>\n",
       "      <th>Number of Pages</th>\n",
       "      <th>Weight</th>\n",
       "      <th>ISBN</th>\n",
       "      <th>Language</th>\n",
       "      <th>Related Genres</th>\n",
       "      <th>Synopsis</th>\n",
       "      <th>URL</th>\n",
       "    </tr>\n",
       "  </thead>\n",
       "  <tbody>\n",
       "    <tr>\n",
       "      <th>0</th>\n",
       "      <td>The Art of Laziness: Overcome Procrastination ...</td>\n",
       "      <td>Library Mindset</td>\n",
       "      <td>Rs. 478</td>\n",
       "      <td>3.0</td>\n",
       "      <td>NaN</td>\n",
       "      <td>NaN</td>\n",
       "      <td>Arts And Photography</td>\n",
       "      <td>182 Pages</td>\n",
       "      <td>130g</td>\n",
       "      <td>9780143469124</td>\n",
       "      <td>English</td>\n",
       "      <td>Arts and Photography:, Business and Investing:...</td>\n",
       "      <td>Do you constantly feel unmotivated to work on ...</td>\n",
       "      <td>https://booksmandala.com/books/the-art-of-lazi...</td>\n",
       "    </tr>\n",
       "    <tr>\n",
       "      <th>1</th>\n",
       "      <td>The Gruffalo</td>\n",
       "      <td>Julia Donaldson</td>\n",
       "      <td>Rs. 720</td>\n",
       "      <td>NaN</td>\n",
       "      <td>Only 3 item left in stock!</td>\n",
       "      <td>NaN</td>\n",
       "      <td>Arts And Photography</td>\n",
       "      <td>33 Pages</td>\n",
       "      <td>196g</td>\n",
       "      <td>9781509804757</td>\n",
       "      <td>English</td>\n",
       "      <td>Kids and Teens:, Arts and Photography:, Kids a...</td>\n",
       "      <td>A mouse took a stroll through the deep dark wo...</td>\n",
       "      <td>https://booksmandala.com/books/the-gruffalo-12894</td>\n",
       "    </tr>\n",
       "    <tr>\n",
       "      <th>2</th>\n",
       "      <td>Art for kids Colouring Book-1</td>\n",
       "      <td>Dph</td>\n",
       "      <td>Rs. 125</td>\n",
       "      <td>NaN</td>\n",
       "      <td>NaN</td>\n",
       "      <td>NaN</td>\n",
       "      <td>Arts And Photography</td>\n",
       "      <td>29 Pages</td>\n",
       "      <td>100g</td>\n",
       "      <td>BMAD5790BBAADD</td>\n",
       "      <td>English</td>\n",
       "      <td>Arts and Photography:, Kids and Teens:, Kids a...</td>\n",
       "      <td>Art for kids- Colouring book</td>\n",
       "      <td>https://booksmandala.com/books/art-for-kids-co...</td>\n",
       "    </tr>\n",
       "    <tr>\n",
       "      <th>3</th>\n",
       "      <td>Gruffalo, Where Are You?: a Felt Flaps Book</td>\n",
       "      <td>Julia Donaldon</td>\n",
       "      <td>Rs. 720</td>\n",
       "      <td>NaN</td>\n",
       "      <td>Only 1 item left in stock!</td>\n",
       "      <td>NaN</td>\n",
       "      <td>Arts And Photography</td>\n",
       "      <td>10 Pages</td>\n",
       "      <td>250g</td>\n",
       "      <td>9781529023602</td>\n",
       "      <td>English</td>\n",
       "      <td>Arts and Photography:, Kids and Teens:, Arts a...</td>\n",
       "      <td>A chunky board book with felt flaps to open on...</td>\n",
       "      <td>https://booksmandala.com/books/gruffalo-where-...</td>\n",
       "    </tr>\n",
       "    <tr>\n",
       "      <th>4</th>\n",
       "      <td>Unseen Extremes mapping the world's greatest m...</td>\n",
       "      <td>Reinhold Messner,</td>\n",
       "      <td>Rs. 2560</td>\n",
       "      <td>NaN</td>\n",
       "      <td>NaN</td>\n",
       "      <td>NaN</td>\n",
       "      <td>Arts And Photography</td>\n",
       "      <td>240 Pages</td>\n",
       "      <td>2160g</td>\n",
       "      <td>9780500518892</td>\n",
       "      <td>English</td>\n",
       "      <td>Arts and Photography:, Travel:, Arts and Photo...</td>\n",
       "      <td>Mountains marks a new milestone in Earth obser...</td>\n",
       "      <td>https://booksmandala.com/books/unseen-extremes...</td>\n",
       "    </tr>\n",
       "  </tbody>\n",
       "</table>\n",
       "</div>"
      ],
      "text/plain": [
       "                                               Title             Author  \\\n",
       "0  The Art of Laziness: Overcome Procrastination ...    Library Mindset   \n",
       "1                                       The Gruffalo    Julia Donaldson   \n",
       "2                      Art for kids Colouring Book-1                Dph   \n",
       "3        Gruffalo, Where Are You?: a Felt Flaps Book     Julia Donaldon   \n",
       "4  Unseen Extremes mapping the world's greatest m...  Reinhold Messner,   \n",
       "\n",
       "      Price  Rating               Limited Stock  Discount  \\\n",
       "0   Rs. 478     3.0                         NaN       NaN   \n",
       "1   Rs. 720     NaN  Only 3 item left in stock!       NaN   \n",
       "2   Rs. 125     NaN                         NaN       NaN   \n",
       "3   Rs. 720     NaN  Only 1 item left in stock!       NaN   \n",
       "4  Rs. 2560     NaN                         NaN       NaN   \n",
       "\n",
       "                  Genre Number of Pages Weight            ISBN Language  \\\n",
       "0  Arts And Photography       182 Pages   130g   9780143469124  English   \n",
       "1  Arts And Photography        33 Pages   196g   9781509804757  English   \n",
       "2  Arts And Photography        29 Pages   100g  BMAD5790BBAADD  English   \n",
       "3  Arts And Photography        10 Pages   250g   9781529023602  English   \n",
       "4  Arts And Photography       240 Pages  2160g   9780500518892  English   \n",
       "\n",
       "                                      Related Genres  \\\n",
       "0  Arts and Photography:, Business and Investing:...   \n",
       "1  Kids and Teens:, Arts and Photography:, Kids a...   \n",
       "2  Arts and Photography:, Kids and Teens:, Kids a...   \n",
       "3  Arts and Photography:, Kids and Teens:, Arts a...   \n",
       "4  Arts and Photography:, Travel:, Arts and Photo...   \n",
       "\n",
       "                                            Synopsis  \\\n",
       "0  Do you constantly feel unmotivated to work on ...   \n",
       "1  A mouse took a stroll through the deep dark wo...   \n",
       "2                       Art for kids- Colouring book   \n",
       "3  A chunky board book with felt flaps to open on...   \n",
       "4  Mountains marks a new milestone in Earth obser...   \n",
       "\n",
       "                                                 URL  \n",
       "0  https://booksmandala.com/books/the-art-of-lazi...  \n",
       "1  https://booksmandala.com/books/the-gruffalo-12894  \n",
       "2  https://booksmandala.com/books/art-for-kids-co...  \n",
       "3  https://booksmandala.com/books/gruffalo-where-...  \n",
       "4  https://booksmandala.com/books/unseen-extremes...  "
      ]
     },
     "execution_count": 6,
     "metadata": {},
     "output_type": "execute_result"
    }
   ],
   "source": [
    "df = pd.read_csv(\"../data/books-2024-10-04.csv\")\n",
    "df.head()"
   ]
  },
  {
   "cell_type": "code",
   "execution_count": 7,
   "id": "ab5971d7-886f-4690-862d-732879beefb7",
   "metadata": {},
   "outputs": [
    {
     "data": {
      "text/html": [
       "<div>\n",
       "<style scoped>\n",
       "    .dataframe tbody tr th:only-of-type {\n",
       "        vertical-align: middle;\n",
       "    }\n",
       "\n",
       "    .dataframe tbody tr th {\n",
       "        vertical-align: top;\n",
       "    }\n",
       "\n",
       "    .dataframe thead th {\n",
       "        text-align: right;\n",
       "    }\n",
       "</style>\n",
       "<table border=\"1\" class=\"dataframe\">\n",
       "  <thead>\n",
       "    <tr style=\"text-align: right;\">\n",
       "      <th></th>\n",
       "      <th>Rating</th>\n",
       "      <th>Discount</th>\n",
       "    </tr>\n",
       "  </thead>\n",
       "  <tbody>\n",
       "    <tr>\n",
       "      <th>count</th>\n",
       "      <td>110.000000</td>\n",
       "      <td>0.0</td>\n",
       "    </tr>\n",
       "    <tr>\n",
       "      <th>mean</th>\n",
       "      <td>4.447273</td>\n",
       "      <td>NaN</td>\n",
       "    </tr>\n",
       "    <tr>\n",
       "      <th>std</th>\n",
       "      <td>0.762265</td>\n",
       "      <td>NaN</td>\n",
       "    </tr>\n",
       "    <tr>\n",
       "      <th>min</th>\n",
       "      <td>2.000000</td>\n",
       "      <td>NaN</td>\n",
       "    </tr>\n",
       "    <tr>\n",
       "      <th>25%</th>\n",
       "      <td>4.000000</td>\n",
       "      <td>NaN</td>\n",
       "    </tr>\n",
       "    <tr>\n",
       "      <th>50%</th>\n",
       "      <td>4.800000</td>\n",
       "      <td>NaN</td>\n",
       "    </tr>\n",
       "    <tr>\n",
       "      <th>75%</th>\n",
       "      <td>5.000000</td>\n",
       "      <td>NaN</td>\n",
       "    </tr>\n",
       "    <tr>\n",
       "      <th>max</th>\n",
       "      <td>5.000000</td>\n",
       "      <td>NaN</td>\n",
       "    </tr>\n",
       "  </tbody>\n",
       "</table>\n",
       "</div>"
      ],
      "text/plain": [
       "           Rating  Discount\n",
       "count  110.000000       0.0\n",
       "mean     4.447273       NaN\n",
       "std      0.762265       NaN\n",
       "min      2.000000       NaN\n",
       "25%      4.000000       NaN\n",
       "50%      4.800000       NaN\n",
       "75%      5.000000       NaN\n",
       "max      5.000000       NaN"
      ]
     },
     "execution_count": 7,
     "metadata": {},
     "output_type": "execute_result"
    }
   ],
   "source": [
    "df.describe()"
   ]
  },
  {
   "cell_type": "code",
   "execution_count": 8,
   "id": "05f7e6c0",
   "metadata": {},
   "outputs": [
    {
     "name": "stdout",
     "output_type": "stream",
     "text": [
      "<class 'pandas.core.frame.DataFrame'>\n",
      "RangeIndex: 1040 entries, 0 to 1039\n",
      "Data columns (total 14 columns):\n",
      " #   Column           Non-Null Count  Dtype  \n",
      "---  ------           --------------  -----  \n",
      " 0   Title            1040 non-null   object \n",
      " 1   Author           1040 non-null   object \n",
      " 2   Price            1040 non-null   object \n",
      " 3   Rating           110 non-null    float64\n",
      " 4   Limited Stock    504 non-null    object \n",
      " 5   Discount         0 non-null      float64\n",
      " 6   Genre            1040 non-null   object \n",
      " 7   Number of Pages  923 non-null    object \n",
      " 8   Weight           1040 non-null   object \n",
      " 9   ISBN             1040 non-null   object \n",
      " 10  Language         1040 non-null   object \n",
      " 11  Related Genres   1040 non-null   object \n",
      " 12  Synopsis         1038 non-null   object \n",
      " 13  URL              1040 non-null   object \n",
      "dtypes: float64(2), object(12)\n",
      "memory usage: 113.9+ KB\n"
     ]
    }
   ],
   "source": [
    "df.info()"
   ]
  },
  {
   "cell_type": "markdown",
   "id": "a6aa7c83-ebff-4356-b603-e5ce4f183ca1",
   "metadata": {},
   "source": [
    "Not much numeric data to work with"
   ]
  },
  {
   "cell_type": "markdown",
   "id": "e7f94f19-4056-4b75-b843-beec5a3b2f65",
   "metadata": {},
   "source": [
    "# Preprocessing"
   ]
  },
  {
   "cell_type": "code",
   "execution_count": 4,
   "id": "c65ad39e-8ad5-4c2d-b801-f515e33c9f48",
   "metadata": {},
   "outputs": [
    {
     "data": {
      "text/plain": [
       "Index(['Title', 'Author', 'Price', 'Genre', 'Number of Pages', 'Weight',\n",
       "       'ISBN', 'Language', 'Related Genres', 'URL'],\n",
       "      dtype='object')"
      ]
     },
     "execution_count": 4,
     "metadata": {},
     "output_type": "execute_result"
    }
   ],
   "source": [
    "# show data types that are non-numeric\n",
    "df.select_dtypes(\"object\").columns"
   ]
  },
  {
   "cell_type": "code",
   "execution_count": 5,
   "id": "d86d2768-5edf-4041-a902-6251a09ce31b",
   "metadata": {},
   "outputs": [
    {
     "data": {
      "text/plain": [
       "Rating             758\n",
       "Number of Pages     52\n",
       "dtype: int64"
      ]
     },
     "execution_count": 5,
     "metadata": {},
     "output_type": "execute_result"
    }
   ],
   "source": [
    "na = df.isna().sum()\n",
    "na[na > 0]"
   ]
  },
  {
   "cell_type": "code",
   "execution_count": 6,
   "id": "619207cf-eac2-4bcb-9d0b-754ddc54d9b3",
   "metadata": {},
   "outputs": [
    {
     "data": {
      "text/plain": [
       "array(['Rs. 3040', 'Rs. 3000', 'Rs. 4000', 'Rs. 1250', 'Rs. 2074',\n",
       "       'Rs. 4400', 'Rs. 560', 'Rs. 784', 'Rs. 520', 'Rs. 1432',\n",
       "       'Rs. 3198', 'Rs. 632', 'Rs. 952', 'Rs. 1278', 'Rs. 110',\n",
       "       'Rs. 4800', 'Rs. 472', 'Rs. 1150', 'Rs. 638', 'Rs. 2900',\n",
       "       'Rs. 3701', 'Rs. 1600', 'Rs. 2200', 'Rs. 1264', 'Rs. 3992',\n",
       "       'Rs. 1800', 'Rs. 2400', 'Rs. 1450', 'Rs. 1000', 'Rs. 1440',\n",
       "       'Rs. 792', 'Rs. 1200', 'Rs. 300', 'Rs. 2238', 'Rs. 3692',\n",
       "       'Rs. 240', 'Rs. 958', 'Rs. 1118', 'Rs. 799', 'Rs. 798', 'Rs. 700',\n",
       "       'Rs. 478', 'Rs. 741', 'Rs. 880', 'Rs. 360', 'Rs. 400', 'Rs. 850',\n",
       "       'Rs. 572', 'Rs. 1272', 'Rs. 558', 'Rs. 1276', 'Rs. 450',\n",
       "       'Rs. 1438', 'Rs. 960', 'Rs. 413', 'Rs. 1011', 'Rs. 250', 'Rs. 385',\n",
       "       'Rs. 312', 'Rs. 454', 'Rs. 2878', 'Rs. 144', 'Rs. 588', 'Rs. 500',\n",
       "       'Rs. 280', 'Rs. 414', 'Rs. 350', 'Rs. 50', 'Rs. 100', 'Rs. 150',\n",
       "       'Rs. 993', 'Rs. 550', 'Rs. 160', 'Rs. 85', 'Rs. 456', 'Rs. 750',\n",
       "       'Rs. 816', 'Rs. 200', 'Rs. 800', 'Rs. 1950', 'Rs. 1425',\n",
       "       'Rs. 1750', 'Rs. 918', 'Rs. 720', 'Rs. 1478', 'Rs. 2078',\n",
       "       'Rs. 689', 'Rs. 224', 'Rs. 717', 'Rs. 255', 'Rs. 600', 'Rs. 698',\n",
       "       'Rs. 1040', 'Rs. 542', 'Rs. 430', 'Rs. 440', 'Rs. 158', 'Rs. 65',\n",
       "       'Rs. 72', 'Rs. 40', 'Rs. 944', 'Rs. 3120', 'Rs. 152', 'Rs. 1793',\n",
       "       'Rs. 318', 'Rs. 2199', 'Rs. 220', 'Rs. 2999', 'Rs. 4024',\n",
       "       'Rs. 987', 'Rs. 2485', 'Rs. 2663', 'Rs. 3437', 'Rs. 3328',\n",
       "       'Rs. 3954', 'Rs. 1850', 'Rs. 1110', 'Rs. 374', 'Rs. 640',\n",
       "       'Rs. 695', 'Rs. 675', 'Rs. 238', 'Rs. 1120', 'Rs. 320', 'Rs. 1112',\n",
       "       'Rs. 80', 'Rs. 56', 'Rs. 275', 'Rs. 3600', 'Rs. 136', 'Rs. 395',\n",
       "       'Rs. 2800', 'Rs. 496', 'Rs. 225', 'Rs. 1592', 'Rs. 355',\n",
       "       'Rs. 2000', 'Rs. 2027', 'Rs. 1020', 'Rs. 232', 'Rs. 1598',\n",
       "       'Rs. 1175', 'Rs. 790', 'Rs. 1300', 'Rs. 1275', 'Rs. 1758',\n",
       "       'Rs. 592', 'Rs. 787', 'Rs. 1920', 'Rs. 486', 'Rs. 2726', 'Rs. 175',\n",
       "       'Rs. 285', 'Rs. 375', 'Rs. 299', 'Rs. 398', 'Rs. 455', 'Rs. 920',\n",
       "       'Rs. 325', 'Rs. 495', 'Rs. 345', 'Rs. 376', 'Rs. 369', 'Rs. 688',\n",
       "       'Rs. 2398', 'Rs. 1904', 'Rs. 230', 'Rs. 2100', 'Rs. 1995',\n",
       "       'Rs. 45000', 'Rs. 6800', 'Rs. 5104', 'Rs. 3200', 'Rs. 9792',\n",
       "       'Rs. 1142', 'Rs. 3417', 'Rs. 1918', 'Rs. 1700', 'Rs. 2560',\n",
       "       'Rs. 14260', 'Rs. 1500', 'Rs. 5500', 'Rs. 1916', 'Rs. 2549',\n",
       "       'Rs. 11360', 'Rs. 206', 'Rs. 344', 'Rs. 900', 'Rs. 104', 'Rs. 120',\n",
       "       'Rs. 128', 'Rs. 460', 'Rs. 760', 'Rs. 576', 'Rs. 3518', 'Rs. 1023',\n",
       "       'Rs. 2288', 'Rs. 1152', 'Rs. 2141', 'Rs. 5278', 'Rs. 4134',\n",
       "       'Rs. 1360', 'Rs. 4160', 'Rs. 645', 'Rs. 1280', 'Rs. 2823',\n",
       "       'Rs. 2243', 'Rs. 3729', 'Rs. 2774', 'Rs. 3800'], dtype=object)"
      ]
     },
     "execution_count": 6,
     "metadata": {},
     "output_type": "execute_result"
    }
   ],
   "source": [
    "df[\"Price\"].unique()"
   ]
  },
  {
   "cell_type": "markdown",
   "id": "ae6ca86a-3e8c-4764-90e4-90b9c4009ea1",
   "metadata": {},
   "source": [
    "There aren't any values that have a decimal, so we can just replace non-digit `\\D` with spaces using RegEx"
   ]
  },
  {
   "cell_type": "code",
   "execution_count": 7,
   "id": "5526f3ce-1cb7-424b-9c52-2f754d7a343d",
   "metadata": {},
   "outputs": [
    {
     "data": {
      "text/plain": [
       "0      3040.0\n",
       "1      3000.0\n",
       "2      3000.0\n",
       "3      4000.0\n",
       "4      1250.0\n",
       "        ...  \n",
       "755     395.0\n",
       "756     952.0\n",
       "757     500.0\n",
       "758     720.0\n",
       "759     450.0\n",
       "Name: Price, Length: 760, dtype: float64"
      ]
     },
     "execution_count": 7,
     "metadata": {},
     "output_type": "execute_result"
    }
   ],
   "source": [
    "df[\"Price\"] = df[\"Price\"].str.replace(r\"\\D\", \"\", regex=True).astype(\"float\")\n",
    "df[\"Price\"]"
   ]
  },
  {
   "cell_type": "code",
   "execution_count": 8,
   "id": "5497d0bf-4d1c-4447-bcc0-f9858c278940",
   "metadata": {},
   "outputs": [
    {
     "data": {
      "text/plain": [
       "0      792 Pages\n",
       "1            NaN\n",
       "2      246 Pages\n",
       "3      145 Pages\n",
       "4      114 Pages\n",
       "         ...    \n",
       "755    102 Pages\n",
       "756     96 Pages\n",
       "757    218 Pages\n",
       "758    235 Pages\n",
       "759    216 Pages\n",
       "Name: Number of Pages, Length: 760, dtype: object"
      ]
     },
     "execution_count": 8,
     "metadata": {},
     "output_type": "execute_result"
    }
   ],
   "source": [
    "df[\"Number of Pages\"]"
   ]
  },
  {
   "cell_type": "markdown",
   "id": "d38a7c4f-989f-43fc-a6d4-fa892bd17873",
   "metadata": {},
   "source": [
    "The `Number of Pages` column has null values"
   ]
  },
  {
   "cell_type": "code",
   "execution_count": 9,
   "id": "c464c93b-2c16-4418-b545-a7465a19bdef",
   "metadata": {},
   "outputs": [
    {
     "data": {
      "text/plain": [
       "0      792.0\n",
       "1        NaN\n",
       "2      246.0\n",
       "3      145.0\n",
       "4      114.0\n",
       "       ...  \n",
       "755    102.0\n",
       "756     96.0\n",
       "757    218.0\n",
       "758    235.0\n",
       "759    216.0\n",
       "Name: Number of Pages, Length: 760, dtype: float64"
      ]
     },
     "execution_count": 9,
     "metadata": {},
     "output_type": "execute_result"
    }
   ],
   "source": [
    "df[\"Number of Pages\"] = df[\"Number of Pages\"][~df[\"Number of Pages\"].isna()] \\\n",
    "                        .str.replace(r\"\\D\", \"\", regex=True) \\\n",
    "                        .astype(\"int\")\n",
    "df[\"Number of Pages\"]"
   ]
  },
  {
   "cell_type": "code",
   "execution_count": 10,
   "id": "1bdedb5c-34ba-45be-9ae6-63e117447f7d",
   "metadata": {},
   "outputs": [
    {
     "data": {
      "text/plain": [
       "array(['1510g', '1500g', '1250g', '1060g', '890g', '480g', '960g', '215g',\n",
       "       '822g', '350g', '510g', '1275g', '485g', '1620g', '850g', '100g',\n",
       "       '2000g', '250g', '690g', '160g', '205g', '2360g', '645g', '1580g',\n",
       "       '730g', '1700g', '1345g', '1770g', '310g', '1350g', '380g', '315g',\n",
       "       '990g', '1490g', '360g', '1330g', '1730g', '80g', '390g', '300g',\n",
       "       '385g', '285g', '182g', '330g', '290g', '460g', '505g', '340g',\n",
       "       '305g', '155g', '210g', '255g', '670g', '180g', '260g', '244g',\n",
       "       '430g', '395g', '365g', '148g', '235g', '200g', '279g', '195g',\n",
       "       '410g', '295g', '120g', '236g', '230g', '355g', '500g', '190g',\n",
       "       '520g', '270g', '475g', '1903g', '325g', '130g', '320g', '175g',\n",
       "       '95g', '425g', '225g', '220g', '240g', '535g', '140g', '600g',\n",
       "       '185g', '378g', '245g', '1680g', '525g', '420g', '167g', '1150g',\n",
       "       '400g', '550g', '615g', '440g', '150g', '275g', '680g', '470g',\n",
       "       '465g', '605g', '335g', '490g', '75g', '85g', '65g', '90g', '50g',\n",
       "       '925g', '55g', '165g', '280g', '450g', '660g', '170g', '435g',\n",
       "       '875g', '995g', '375g', '640g', '2130g', '580g', '630g', '555g',\n",
       "       '445g', '560g', '710g', '264g', '675g', '620g', '610g', '189g',\n",
       "       '115g', '110g', '145g', '60g', '1175g', '840g', '345g', '720g',\n",
       "       '4080g', '855g', '515g', '725g', '950g', '1155g', '146g', '404g',\n",
       "       '715g', '820g', '2050g', '455g', '136g', '1082g', '1485g', '575g',\n",
       "       '8000g', '650g', '1185g', '1040g', '540g', '70g', '125g', '530g',\n",
       "       '760g', '740g', '232g', '1420g', '1g', '830g', '2500g', '1140g',\n",
       "       '1820g', '1055g', '2425g', '970g', '800g', '635g', '980g', '975g',\n",
       "       '3000g', '1280g', '1160g', '632g', '825g', '1000g', '860g',\n",
       "       '2960g', '1590g', '700g', '750g', '1030g', '755g', '1190g', '415g',\n",
       "       '685g', '439g', '590g', '370g', '2600g', '815g'], dtype=object)"
      ]
     },
     "execution_count": 10,
     "metadata": {},
     "output_type": "execute_result"
    }
   ],
   "source": [
    "df[\"Weight\"].unique()"
   ]
  },
  {
   "cell_type": "code",
   "execution_count": 11,
   "id": "01394e6e-01c7-4e5b-8085-da83141e5ac3",
   "metadata": {},
   "outputs": [],
   "source": [
    "df[\"Weight\"] = df[\"Weight\"].str.replace(\"g\", \"\", regex=True).astype(\"int\")"
   ]
  },
  {
   "cell_type": "code",
   "execution_count": 12,
   "id": "982f4051-4ea5-4564-ba11-05066b79c17d",
   "metadata": {},
   "outputs": [
    {
     "name": "stdout",
     "output_type": "stream",
     "text": [
      "<class 'pandas.core.frame.DataFrame'>\n",
      "RangeIndex: 760 entries, 0 to 759\n",
      "Data columns (total 11 columns):\n",
      " #   Column           Non-Null Count  Dtype  \n",
      "---  ------           --------------  -----  \n",
      " 0   Title            760 non-null    object \n",
      " 1   Author           760 non-null    object \n",
      " 2   Price            760 non-null    float64\n",
      " 3   Rating           2 non-null      float64\n",
      " 4   Genre            760 non-null    object \n",
      " 5   Number of Pages  708 non-null    float64\n",
      " 6   Weight           760 non-null    int64  \n",
      " 7   ISBN             760 non-null    object \n",
      " 8   Language         760 non-null    object \n",
      " 9   Related Genres   760 non-null    object \n",
      " 10  URL              760 non-null    object \n",
      "dtypes: float64(3), int64(1), object(7)\n",
      "memory usage: 65.4+ KB\n"
     ]
    }
   ],
   "source": [
    "df.info()"
   ]
  },
  {
   "cell_type": "code",
   "execution_count": 13,
   "id": "0cdf63c2-f191-456a-83d7-29673d2711ef",
   "metadata": {},
   "outputs": [
    {
     "data": {
      "text/plain": [
       "array(['English', 'Japanese', 'French', 'German', 'Nepali', 'Hindi',\n",
       "       'Russian'], dtype=object)"
      ]
     },
     "execution_count": 13,
     "metadata": {},
     "output_type": "execute_result"
    }
   ],
   "source": [
    "df[\"Language\"].unique()"
   ]
  },
  {
   "cell_type": "markdown",
   "id": "9e798bcd-39bc-4211-8588-1d7d4196bfd5",
   "metadata": {},
   "source": [
    "## Null values"
   ]
  },
  {
   "cell_type": "code",
   "execution_count": 14,
   "id": "9a9f0857-a64b-4cf0-a636-12322f9c5938",
   "metadata": {},
   "outputs": [
    {
     "data": {
      "text/plain": [
       "Rating             758\n",
       "Number of Pages     52\n",
       "dtype: int64"
      ]
     },
     "execution_count": 14,
     "metadata": {},
     "output_type": "execute_result"
    }
   ],
   "source": [
    "na[na > 0]"
   ]
  },
  {
   "cell_type": "code",
   "execution_count": 15,
   "id": "00e8c789-5cf4-4563-934f-b6c7cf4b20df",
   "metadata": {},
   "outputs": [
    {
     "data": {
      "text/plain": [
       "760"
      ]
     },
     "execution_count": 15,
     "metadata": {},
     "output_type": "execute_result"
    }
   ],
   "source": [
    "df.shape[0]"
   ]
  },
  {
   "cell_type": "code",
   "execution_count": 16,
   "id": "2c51969f-a5b7-44eb-a349-18f4544da643",
   "metadata": {},
   "outputs": [],
   "source": [
    "df.drop(\"Rating\", inplace=True, axis=1)"
   ]
  },
  {
   "cell_type": "code",
   "execution_count": 17,
   "id": "c9941ffd-aea3-4540-ab7a-705f56a44628",
   "metadata": {},
   "outputs": [
    {
     "data": {
      "text/plain": [
       "Number of Pages    52\n",
       "dtype: int64"
      ]
     },
     "execution_count": 17,
     "metadata": {},
     "output_type": "execute_result"
    }
   ],
   "source": [
    "na = df.isna().sum()\n",
    "na[na > 0]"
   ]
  },
  {
   "cell_type": "code",
   "execution_count": 18,
   "id": "7a73d8b1-bfb5-4499-9a9f-4c297209103a",
   "metadata": {},
   "outputs": [
    {
     "data": {
      "text/plain": [
       "0.06842105263157895"
      ]
     },
     "execution_count": 18,
     "metadata": {},
     "output_type": "execute_result"
    }
   ],
   "source": [
    "df[\"Number of Pages\"].isna().sum() / df.shape[0]"
   ]
  },
  {
   "cell_type": "code",
   "execution_count": 21,
   "id": "c398863e-85d6-4eb4-905c-d4ad52344468",
   "metadata": {},
   "outputs": [],
   "source": [
    "df.dropna(inplace=True)"
   ]
  },
  {
   "cell_type": "code",
   "execution_count": 22,
   "id": "cccd0b11-dcec-4db5-8d6e-7c5ea3af50f4",
   "metadata": {},
   "outputs": [
    {
     "data": {
      "text/plain": [
       "Series([], dtype: int64)"
      ]
     },
     "execution_count": 22,
     "metadata": {},
     "output_type": "execute_result"
    }
   ],
   "source": [
    "na = df.isna().sum()\n",
    "na[na > 0]"
   ]
  },
  {
   "cell_type": "code",
   "execution_count": 23,
   "id": "a080d4bc-f9ef-44a5-9181-95905f437299",
   "metadata": {},
   "outputs": [
    {
     "name": "stdout",
     "output_type": "stream",
     "text": [
      "<class 'pandas.core.frame.DataFrame'>\n",
      "Index: 708 entries, 0 to 759\n",
      "Data columns (total 10 columns):\n",
      " #   Column           Non-Null Count  Dtype  \n",
      "---  ------           --------------  -----  \n",
      " 0   Title            708 non-null    object \n",
      " 1   Author           708 non-null    object \n",
      " 2   Price            708 non-null    float64\n",
      " 3   Genre            708 non-null    object \n",
      " 4   Number of Pages  708 non-null    float64\n",
      " 5   Weight           708 non-null    int64  \n",
      " 6   ISBN             708 non-null    object \n",
      " 7   Language         708 non-null    object \n",
      " 8   Related Genres   708 non-null    object \n",
      " 9   URL              708 non-null    object \n",
      "dtypes: float64(2), int64(1), object(7)\n",
      "memory usage: 60.8+ KB\n"
     ]
    }
   ],
   "source": [
    "df.info()"
   ]
  },
  {
   "cell_type": "markdown",
   "id": "98e887e4-4089-4d30-802b-328ebadd0b02",
   "metadata": {},
   "source": [
    "# Exploratory Analysis and Visualizations"
   ]
  },
  {
   "cell_type": "code",
   "execution_count": 27,
   "id": "d016a26d-434b-4661-ba94-5f6703c8af0d",
   "metadata": {},
   "outputs": [
    {
     "data": {
      "application/vnd.plotly.v1+json": {
       "config": {
        "plotlyServerURL": "https://plot.ly"
       },
       "data": [
        {
         "alignmentgroup": "True",
         "bingroup": "x",
         "hovertemplate": "Price=%{x}<br>count=%{y}<extra></extra>",
         "legendgroup": "",
         "marker": {
          "color": "#636efa",
          "pattern": {
           "shape": ""
          }
         },
         "name": "",
         "offsetgroup": "",
         "orientation": "v",
         "showlegend": false,
         "type": "histogram",
         "x": [
          3040,
          3000,
          4000,
          1250,
          2074,
          4400,
          784,
          520,
          1432,
          3198,
          632,
          1278,
          110,
          472,
          560,
          1150,
          638,
          632,
          2900,
          3701,
          1600,
          2200,
          1264,
          3992,
          1800,
          2400,
          1450,
          1000,
          1440,
          792,
          1000,
          1200,
          2238,
          3692,
          240,
          958,
          1118,
          799,
          798,
          700,
          478,
          1278,
          472,
          741,
          880,
          360,
          400,
          478,
          638,
          850,
          638,
          638,
          798,
          1272,
          638,
          478,
          638,
          638,
          558,
          958,
          1276,
          472,
          880,
          638,
          450,
          1278,
          478,
          560,
          638,
          478,
          1438,
          960,
          478,
          632,
          413,
          1011,
          400,
          450,
          240,
          478,
          250,
          472,
          632,
          478,
          478,
          385,
          638,
          250,
          312,
          400,
          454,
          478,
          478,
          400,
          2878,
          250,
          250,
          144,
          588,
          638,
          250,
          500,
          472,
          450,
          312,
          250,
          280,
          638,
          413,
          450,
          560,
          250,
          360,
          414,
          993,
          160,
          816,
          792,
          400,
          632,
          850,
          1000,
          400,
          800,
          300,
          1950,
          3000,
          1750,
          918,
          472,
          958,
          720,
          250,
          958,
          1478,
          638,
          880,
          800,
          2078,
          1200,
          200,
          413,
          689,
          224,
          414,
          1118,
          160,
          560,
          413,
          717,
          560,
          255,
          632,
          952,
          600,
          560,
          958,
          698,
          350,
          880,
          1000,
          638,
          1040,
          350,
          958,
          1438,
          542,
          400,
          400,
          280,
          312,
          150,
          200,
          200,
          400,
          478,
          280,
          478,
          440,
          280,
          280,
          240,
          560,
          280,
          158,
          478,
          400,
          400,
          280,
          65,
          72,
          280,
          40,
          400,
          250,
          158,
          280,
          2878,
          798,
          200,
          1118,
          160,
          250,
          400,
          550,
          472,
          944,
          3120,
          560,
          632,
          152,
          1793,
          720,
          318,
          478,
          2199,
          220,
          400,
          2999,
          1200,
          4024,
          350,
          987,
          472,
          478,
          2485,
          1000,
          160,
          958,
          2663,
          1200,
          3437,
          720,
          152,
          3328,
          3954,
          1850,
          450,
          478,
          450,
          1118,
          800,
          312,
          1000,
          478,
          400,
          1200,
          1110,
          1440,
          952,
          880,
          374,
          638,
          318,
          472,
          638,
          1200,
          798,
          640,
          695,
          638,
          675,
          312,
          312,
          238,
          560,
          700,
          792,
          632,
          1120,
          958,
          472,
          320,
          1011,
          500,
          720,
          792,
          400,
          400,
          150,
          798,
          1112,
          1118,
          798,
          72,
          360,
          1118,
          798,
          80,
          1438,
          400,
          1438,
          1438,
          798,
          280,
          798,
          250,
          80,
          798,
          80,
          80,
          1118,
          80,
          1438,
          798,
          80,
          80,
          2878,
          798,
          80,
          798,
          400,
          80,
          80,
          56,
          958,
          798,
          798,
          400,
          275,
          2900,
          1432,
          3600,
          136,
          80,
          395,
          350,
          792,
          550,
          80,
          2200,
          2800,
          318,
          496,
          225,
          400,
          4800,
          1592,
          280,
          798,
          440,
          355,
          2000,
          2027,
          1020,
          550,
          400,
          280,
          280,
          500,
          1118,
          232,
          312,
          80,
          200,
          1598,
          1175,
          944,
          2000,
          790,
          250,
          1118,
          3040,
          560,
          1300,
          318,
          880,
          1275,
          450,
          638,
          250,
          1112,
          1758,
          1000,
          400,
          1118,
          750,
          592,
          632,
          798,
          787,
          1200,
          560,
          880,
          1920,
          798,
          400,
          560,
          312,
          395,
          486,
          3000,
          2726,
          472,
          960,
          632,
          240,
          200,
          1112,
          450,
          632,
          450,
          320,
          250,
          225,
          350,
          175,
          285,
          792,
          400,
          600,
          375,
          350,
          275,
          350,
          1600,
          250,
          299,
          398,
          455,
          300,
          920,
          350,
          200,
          325,
          456,
          275,
          250,
          495,
          345,
          1592,
          1112,
          550,
          375,
          640,
          395,
          798,
          798,
          638,
          1118,
          958,
          1278,
          1438,
          798,
          478,
          798,
          472,
          798,
          376,
          798,
          638,
          798,
          798,
          798,
          1278,
          360,
          958,
          958,
          400,
          958,
          798,
          312,
          560,
          638,
          638,
          369,
          688,
          958,
          472,
          1118,
          1118,
          2398,
          400,
          1904,
          798,
          230,
          1000,
          1600,
          2100,
          3198,
          1598,
          4800,
          6800,
          5104,
          3200,
          9792,
          3000,
          798,
          1142,
          4000,
          3417,
          4000,
          1918,
          1700,
          1000,
          2400,
          2560,
          14260,
          2000,
          1500,
          1918,
          5500,
          3600,
          1916,
          2549,
          1142,
          11360,
          1142,
          2400,
          206,
          300,
          800,
          240,
          800,
          200,
          344,
          600,
          2000,
          200,
          958,
          900,
          717,
          318,
          300,
          400,
          560,
          520,
          695,
          318,
          200,
          472,
          560,
          104,
          3692,
          880,
          238,
          120,
          798,
          1440,
          1112,
          472,
          128,
          120,
          460,
          136,
          400,
          632,
          760,
          638,
          280,
          400,
          472,
          1440,
          160,
          318,
          374,
          472,
          576,
          472,
          900,
          638,
          472,
          318,
          80,
          958,
          560,
          638,
          318,
          395,
          638,
          500,
          400,
          3518,
          472,
          958,
          638,
          798,
          400,
          1023,
          360,
          400,
          560,
          558,
          638,
          880,
          300,
          720,
          1438,
          395,
          318,
          280,
          1112,
          560,
          1200,
          1000,
          1440,
          478,
          440,
          100,
          952,
          312,
          952,
          798,
          360,
          206,
          312,
          400,
          318,
          900,
          638,
          300,
          958,
          600,
          1118,
          344,
          206,
          318,
          880,
          987,
          2288,
          400,
          1152,
          472,
          350,
          240,
          2000,
          238,
          792,
          500,
          1438,
          1278,
          798,
          1598,
          640,
          958,
          958,
          1918,
          1272,
          958,
          958,
          880,
          958,
          798,
          224,
          1200,
          958,
          958,
          2141,
          3198,
          478,
          5278,
          1118,
          4134,
          1278,
          958,
          400,
          632,
          1598,
          3198,
          1118,
          1758,
          1598,
          1278,
          638,
          958,
          958,
          1118,
          1360,
          3200,
          1793,
          4024,
          798,
          1011,
          4160,
          400,
          800,
          792,
          645,
          1280,
          472,
          472,
          395,
          2823,
          120,
          600,
          640,
          500,
          880,
          792,
          2243,
          2663,
          350,
          3120,
          632,
          3729,
          2774,
          3437,
          2878,
          3800,
          200,
          560,
          350,
          1142,
          395,
          952,
          500,
          720,
          450
         ],
         "xaxis": "x",
         "yaxis": "y"
        },
        {
         "alignmentgroup": "True",
         "hovertemplate": "Price=%{x}<extra></extra>",
         "legendgroup": "",
         "marker": {
          "color": "#636efa"
         },
         "name": "",
         "notched": true,
         "offsetgroup": "",
         "showlegend": false,
         "type": "box",
         "x": [
          3040,
          3000,
          4000,
          1250,
          2074,
          4400,
          784,
          520,
          1432,
          3198,
          632,
          1278,
          110,
          472,
          560,
          1150,
          638,
          632,
          2900,
          3701,
          1600,
          2200,
          1264,
          3992,
          1800,
          2400,
          1450,
          1000,
          1440,
          792,
          1000,
          1200,
          2238,
          3692,
          240,
          958,
          1118,
          799,
          798,
          700,
          478,
          1278,
          472,
          741,
          880,
          360,
          400,
          478,
          638,
          850,
          638,
          638,
          798,
          1272,
          638,
          478,
          638,
          638,
          558,
          958,
          1276,
          472,
          880,
          638,
          450,
          1278,
          478,
          560,
          638,
          478,
          1438,
          960,
          478,
          632,
          413,
          1011,
          400,
          450,
          240,
          478,
          250,
          472,
          632,
          478,
          478,
          385,
          638,
          250,
          312,
          400,
          454,
          478,
          478,
          400,
          2878,
          250,
          250,
          144,
          588,
          638,
          250,
          500,
          472,
          450,
          312,
          250,
          280,
          638,
          413,
          450,
          560,
          250,
          360,
          414,
          993,
          160,
          816,
          792,
          400,
          632,
          850,
          1000,
          400,
          800,
          300,
          1950,
          3000,
          1750,
          918,
          472,
          958,
          720,
          250,
          958,
          1478,
          638,
          880,
          800,
          2078,
          1200,
          200,
          413,
          689,
          224,
          414,
          1118,
          160,
          560,
          413,
          717,
          560,
          255,
          632,
          952,
          600,
          560,
          958,
          698,
          350,
          880,
          1000,
          638,
          1040,
          350,
          958,
          1438,
          542,
          400,
          400,
          280,
          312,
          150,
          200,
          200,
          400,
          478,
          280,
          478,
          440,
          280,
          280,
          240,
          560,
          280,
          158,
          478,
          400,
          400,
          280,
          65,
          72,
          280,
          40,
          400,
          250,
          158,
          280,
          2878,
          798,
          200,
          1118,
          160,
          250,
          400,
          550,
          472,
          944,
          3120,
          560,
          632,
          152,
          1793,
          720,
          318,
          478,
          2199,
          220,
          400,
          2999,
          1200,
          4024,
          350,
          987,
          472,
          478,
          2485,
          1000,
          160,
          958,
          2663,
          1200,
          3437,
          720,
          152,
          3328,
          3954,
          1850,
          450,
          478,
          450,
          1118,
          800,
          312,
          1000,
          478,
          400,
          1200,
          1110,
          1440,
          952,
          880,
          374,
          638,
          318,
          472,
          638,
          1200,
          798,
          640,
          695,
          638,
          675,
          312,
          312,
          238,
          560,
          700,
          792,
          632,
          1120,
          958,
          472,
          320,
          1011,
          500,
          720,
          792,
          400,
          400,
          150,
          798,
          1112,
          1118,
          798,
          72,
          360,
          1118,
          798,
          80,
          1438,
          400,
          1438,
          1438,
          798,
          280,
          798,
          250,
          80,
          798,
          80,
          80,
          1118,
          80,
          1438,
          798,
          80,
          80,
          2878,
          798,
          80,
          798,
          400,
          80,
          80,
          56,
          958,
          798,
          798,
          400,
          275,
          2900,
          1432,
          3600,
          136,
          80,
          395,
          350,
          792,
          550,
          80,
          2200,
          2800,
          318,
          496,
          225,
          400,
          4800,
          1592,
          280,
          798,
          440,
          355,
          2000,
          2027,
          1020,
          550,
          400,
          280,
          280,
          500,
          1118,
          232,
          312,
          80,
          200,
          1598,
          1175,
          944,
          2000,
          790,
          250,
          1118,
          3040,
          560,
          1300,
          318,
          880,
          1275,
          450,
          638,
          250,
          1112,
          1758,
          1000,
          400,
          1118,
          750,
          592,
          632,
          798,
          787,
          1200,
          560,
          880,
          1920,
          798,
          400,
          560,
          312,
          395,
          486,
          3000,
          2726,
          472,
          960,
          632,
          240,
          200,
          1112,
          450,
          632,
          450,
          320,
          250,
          225,
          350,
          175,
          285,
          792,
          400,
          600,
          375,
          350,
          275,
          350,
          1600,
          250,
          299,
          398,
          455,
          300,
          920,
          350,
          200,
          325,
          456,
          275,
          250,
          495,
          345,
          1592,
          1112,
          550,
          375,
          640,
          395,
          798,
          798,
          638,
          1118,
          958,
          1278,
          1438,
          798,
          478,
          798,
          472,
          798,
          376,
          798,
          638,
          798,
          798,
          798,
          1278,
          360,
          958,
          958,
          400,
          958,
          798,
          312,
          560,
          638,
          638,
          369,
          688,
          958,
          472,
          1118,
          1118,
          2398,
          400,
          1904,
          798,
          230,
          1000,
          1600,
          2100,
          3198,
          1598,
          4800,
          6800,
          5104,
          3200,
          9792,
          3000,
          798,
          1142,
          4000,
          3417,
          4000,
          1918,
          1700,
          1000,
          2400,
          2560,
          14260,
          2000,
          1500,
          1918,
          5500,
          3600,
          1916,
          2549,
          1142,
          11360,
          1142,
          2400,
          206,
          300,
          800,
          240,
          800,
          200,
          344,
          600,
          2000,
          200,
          958,
          900,
          717,
          318,
          300,
          400,
          560,
          520,
          695,
          318,
          200,
          472,
          560,
          104,
          3692,
          880,
          238,
          120,
          798,
          1440,
          1112,
          472,
          128,
          120,
          460,
          136,
          400,
          632,
          760,
          638,
          280,
          400,
          472,
          1440,
          160,
          318,
          374,
          472,
          576,
          472,
          900,
          638,
          472,
          318,
          80,
          958,
          560,
          638,
          318,
          395,
          638,
          500,
          400,
          3518,
          472,
          958,
          638,
          798,
          400,
          1023,
          360,
          400,
          560,
          558,
          638,
          880,
          300,
          720,
          1438,
          395,
          318,
          280,
          1112,
          560,
          1200,
          1000,
          1440,
          478,
          440,
          100,
          952,
          312,
          952,
          798,
          360,
          206,
          312,
          400,
          318,
          900,
          638,
          300,
          958,
          600,
          1118,
          344,
          206,
          318,
          880,
          987,
          2288,
          400,
          1152,
          472,
          350,
          240,
          2000,
          238,
          792,
          500,
          1438,
          1278,
          798,
          1598,
          640,
          958,
          958,
          1918,
          1272,
          958,
          958,
          880,
          958,
          798,
          224,
          1200,
          958,
          958,
          2141,
          3198,
          478,
          5278,
          1118,
          4134,
          1278,
          958,
          400,
          632,
          1598,
          3198,
          1118,
          1758,
          1598,
          1278,
          638,
          958,
          958,
          1118,
          1360,
          3200,
          1793,
          4024,
          798,
          1011,
          4160,
          400,
          800,
          792,
          645,
          1280,
          472,
          472,
          395,
          2823,
          120,
          600,
          640,
          500,
          880,
          792,
          2243,
          2663,
          350,
          3120,
          632,
          3729,
          2774,
          3437,
          2878,
          3800,
          200,
          560,
          350,
          1142,
          395,
          952,
          500,
          720,
          450
         ],
         "xaxis": "x2",
         "yaxis": "y2"
        }
       ],
       "layout": {
        "autosize": true,
        "barmode": "relative",
        "legend": {
         "tracegroupgap": 0
        },
        "margin": {
         "t": 60
        },
        "template": {
         "data": {
          "bar": [
           {
            "error_x": {
             "color": "#2a3f5f"
            },
            "error_y": {
             "color": "#2a3f5f"
            },
            "marker": {
             "line": {
              "color": "#E5ECF6",
              "width": 0.5
             },
             "pattern": {
              "fillmode": "overlay",
              "size": 10,
              "solidity": 0.2
             }
            },
            "type": "bar"
           }
          ],
          "barpolar": [
           {
            "marker": {
             "line": {
              "color": "#E5ECF6",
              "width": 0.5
             },
             "pattern": {
              "fillmode": "overlay",
              "size": 10,
              "solidity": 0.2
             }
            },
            "type": "barpolar"
           }
          ],
          "carpet": [
           {
            "aaxis": {
             "endlinecolor": "#2a3f5f",
             "gridcolor": "white",
             "linecolor": "white",
             "minorgridcolor": "white",
             "startlinecolor": "#2a3f5f"
            },
            "baxis": {
             "endlinecolor": "#2a3f5f",
             "gridcolor": "white",
             "linecolor": "white",
             "minorgridcolor": "white",
             "startlinecolor": "#2a3f5f"
            },
            "type": "carpet"
           }
          ],
          "choropleth": [
           {
            "colorbar": {
             "outlinewidth": 0,
             "ticks": ""
            },
            "type": "choropleth"
           }
          ],
          "contour": [
           {
            "colorbar": {
             "outlinewidth": 0,
             "ticks": ""
            },
            "colorscale": [
             [
              0,
              "#0d0887"
             ],
             [
              0.1111111111111111,
              "#46039f"
             ],
             [
              0.2222222222222222,
              "#7201a8"
             ],
             [
              0.3333333333333333,
              "#9c179e"
             ],
             [
              0.4444444444444444,
              "#bd3786"
             ],
             [
              0.5555555555555556,
              "#d8576b"
             ],
             [
              0.6666666666666666,
              "#ed7953"
             ],
             [
              0.7777777777777778,
              "#fb9f3a"
             ],
             [
              0.8888888888888888,
              "#fdca26"
             ],
             [
              1,
              "#f0f921"
             ]
            ],
            "type": "contour"
           }
          ],
          "contourcarpet": [
           {
            "colorbar": {
             "outlinewidth": 0,
             "ticks": ""
            },
            "type": "contourcarpet"
           }
          ],
          "heatmap": [
           {
            "colorbar": {
             "outlinewidth": 0,
             "ticks": ""
            },
            "colorscale": [
             [
              0,
              "#0d0887"
             ],
             [
              0.1111111111111111,
              "#46039f"
             ],
             [
              0.2222222222222222,
              "#7201a8"
             ],
             [
              0.3333333333333333,
              "#9c179e"
             ],
             [
              0.4444444444444444,
              "#bd3786"
             ],
             [
              0.5555555555555556,
              "#d8576b"
             ],
             [
              0.6666666666666666,
              "#ed7953"
             ],
             [
              0.7777777777777778,
              "#fb9f3a"
             ],
             [
              0.8888888888888888,
              "#fdca26"
             ],
             [
              1,
              "#f0f921"
             ]
            ],
            "type": "heatmap"
           }
          ],
          "heatmapgl": [
           {
            "colorbar": {
             "outlinewidth": 0,
             "ticks": ""
            },
            "colorscale": [
             [
              0,
              "#0d0887"
             ],
             [
              0.1111111111111111,
              "#46039f"
             ],
             [
              0.2222222222222222,
              "#7201a8"
             ],
             [
              0.3333333333333333,
              "#9c179e"
             ],
             [
              0.4444444444444444,
              "#bd3786"
             ],
             [
              0.5555555555555556,
              "#d8576b"
             ],
             [
              0.6666666666666666,
              "#ed7953"
             ],
             [
              0.7777777777777778,
              "#fb9f3a"
             ],
             [
              0.8888888888888888,
              "#fdca26"
             ],
             [
              1,
              "#f0f921"
             ]
            ],
            "type": "heatmapgl"
           }
          ],
          "histogram": [
           {
            "marker": {
             "pattern": {
              "fillmode": "overlay",
              "size": 10,
              "solidity": 0.2
             }
            },
            "type": "histogram"
           }
          ],
          "histogram2d": [
           {
            "colorbar": {
             "outlinewidth": 0,
             "ticks": ""
            },
            "colorscale": [
             [
              0,
              "#0d0887"
             ],
             [
              0.1111111111111111,
              "#46039f"
             ],
             [
              0.2222222222222222,
              "#7201a8"
             ],
             [
              0.3333333333333333,
              "#9c179e"
             ],
             [
              0.4444444444444444,
              "#bd3786"
             ],
             [
              0.5555555555555556,
              "#d8576b"
             ],
             [
              0.6666666666666666,
              "#ed7953"
             ],
             [
              0.7777777777777778,
              "#fb9f3a"
             ],
             [
              0.8888888888888888,
              "#fdca26"
             ],
             [
              1,
              "#f0f921"
             ]
            ],
            "type": "histogram2d"
           }
          ],
          "histogram2dcontour": [
           {
            "colorbar": {
             "outlinewidth": 0,
             "ticks": ""
            },
            "colorscale": [
             [
              0,
              "#0d0887"
             ],
             [
              0.1111111111111111,
              "#46039f"
             ],
             [
              0.2222222222222222,
              "#7201a8"
             ],
             [
              0.3333333333333333,
              "#9c179e"
             ],
             [
              0.4444444444444444,
              "#bd3786"
             ],
             [
              0.5555555555555556,
              "#d8576b"
             ],
             [
              0.6666666666666666,
              "#ed7953"
             ],
             [
              0.7777777777777778,
              "#fb9f3a"
             ],
             [
              0.8888888888888888,
              "#fdca26"
             ],
             [
              1,
              "#f0f921"
             ]
            ],
            "type": "histogram2dcontour"
           }
          ],
          "mesh3d": [
           {
            "colorbar": {
             "outlinewidth": 0,
             "ticks": ""
            },
            "type": "mesh3d"
           }
          ],
          "parcoords": [
           {
            "line": {
             "colorbar": {
              "outlinewidth": 0,
              "ticks": ""
             }
            },
            "type": "parcoords"
           }
          ],
          "pie": [
           {
            "automargin": true,
            "type": "pie"
           }
          ],
          "scatter": [
           {
            "fillpattern": {
             "fillmode": "overlay",
             "size": 10,
             "solidity": 0.2
            },
            "type": "scatter"
           }
          ],
          "scatter3d": [
           {
            "line": {
             "colorbar": {
              "outlinewidth": 0,
              "ticks": ""
             }
            },
            "marker": {
             "colorbar": {
              "outlinewidth": 0,
              "ticks": ""
             }
            },
            "type": "scatter3d"
           }
          ],
          "scattercarpet": [
           {
            "marker": {
             "colorbar": {
              "outlinewidth": 0,
              "ticks": ""
             }
            },
            "type": "scattercarpet"
           }
          ],
          "scattergeo": [
           {
            "marker": {
             "colorbar": {
              "outlinewidth": 0,
              "ticks": ""
             }
            },
            "type": "scattergeo"
           }
          ],
          "scattergl": [
           {
            "marker": {
             "colorbar": {
              "outlinewidth": 0,
              "ticks": ""
             }
            },
            "type": "scattergl"
           }
          ],
          "scattermapbox": [
           {
            "marker": {
             "colorbar": {
              "outlinewidth": 0,
              "ticks": ""
             }
            },
            "type": "scattermapbox"
           }
          ],
          "scatterpolar": [
           {
            "marker": {
             "colorbar": {
              "outlinewidth": 0,
              "ticks": ""
             }
            },
            "type": "scatterpolar"
           }
          ],
          "scatterpolargl": [
           {
            "marker": {
             "colorbar": {
              "outlinewidth": 0,
              "ticks": ""
             }
            },
            "type": "scatterpolargl"
           }
          ],
          "scatterternary": [
           {
            "marker": {
             "colorbar": {
              "outlinewidth": 0,
              "ticks": ""
             }
            },
            "type": "scatterternary"
           }
          ],
          "surface": [
           {
            "colorbar": {
             "outlinewidth": 0,
             "ticks": ""
            },
            "colorscale": [
             [
              0,
              "#0d0887"
             ],
             [
              0.1111111111111111,
              "#46039f"
             ],
             [
              0.2222222222222222,
              "#7201a8"
             ],
             [
              0.3333333333333333,
              "#9c179e"
             ],
             [
              0.4444444444444444,
              "#bd3786"
             ],
             [
              0.5555555555555556,
              "#d8576b"
             ],
             [
              0.6666666666666666,
              "#ed7953"
             ],
             [
              0.7777777777777778,
              "#fb9f3a"
             ],
             [
              0.8888888888888888,
              "#fdca26"
             ],
             [
              1,
              "#f0f921"
             ]
            ],
            "type": "surface"
           }
          ],
          "table": [
           {
            "cells": {
             "fill": {
              "color": "#EBF0F8"
             },
             "line": {
              "color": "white"
             }
            },
            "header": {
             "fill": {
              "color": "#C8D4E3"
             },
             "line": {
              "color": "white"
             }
            },
            "type": "table"
           }
          ]
         },
         "layout": {
          "annotationdefaults": {
           "arrowcolor": "#2a3f5f",
           "arrowhead": 0,
           "arrowwidth": 1
          },
          "autotypenumbers": "strict",
          "coloraxis": {
           "colorbar": {
            "outlinewidth": 0,
            "ticks": ""
           }
          },
          "colorscale": {
           "diverging": [
            [
             0,
             "#8e0152"
            ],
            [
             0.1,
             "#c51b7d"
            ],
            [
             0.2,
             "#de77ae"
            ],
            [
             0.3,
             "#f1b6da"
            ],
            [
             0.4,
             "#fde0ef"
            ],
            [
             0.5,
             "#f7f7f7"
            ],
            [
             0.6,
             "#e6f5d0"
            ],
            [
             0.7,
             "#b8e186"
            ],
            [
             0.8,
             "#7fbc41"
            ],
            [
             0.9,
             "#4d9221"
            ],
            [
             1,
             "#276419"
            ]
           ],
           "sequential": [
            [
             0,
             "#0d0887"
            ],
            [
             0.1111111111111111,
             "#46039f"
            ],
            [
             0.2222222222222222,
             "#7201a8"
            ],
            [
             0.3333333333333333,
             "#9c179e"
            ],
            [
             0.4444444444444444,
             "#bd3786"
            ],
            [
             0.5555555555555556,
             "#d8576b"
            ],
            [
             0.6666666666666666,
             "#ed7953"
            ],
            [
             0.7777777777777778,
             "#fb9f3a"
            ],
            [
             0.8888888888888888,
             "#fdca26"
            ],
            [
             1,
             "#f0f921"
            ]
           ],
           "sequentialminus": [
            [
             0,
             "#0d0887"
            ],
            [
             0.1111111111111111,
             "#46039f"
            ],
            [
             0.2222222222222222,
             "#7201a8"
            ],
            [
             0.3333333333333333,
             "#9c179e"
            ],
            [
             0.4444444444444444,
             "#bd3786"
            ],
            [
             0.5555555555555556,
             "#d8576b"
            ],
            [
             0.6666666666666666,
             "#ed7953"
            ],
            [
             0.7777777777777778,
             "#fb9f3a"
            ],
            [
             0.8888888888888888,
             "#fdca26"
            ],
            [
             1,
             "#f0f921"
            ]
           ]
          },
          "colorway": [
           "#636efa",
           "#EF553B",
           "#00cc96",
           "#ab63fa",
           "#FFA15A",
           "#19d3f3",
           "#FF6692",
           "#B6E880",
           "#FF97FF",
           "#FECB52"
          ],
          "font": {
           "color": "#2a3f5f"
          },
          "geo": {
           "bgcolor": "white",
           "lakecolor": "white",
           "landcolor": "#E5ECF6",
           "showlakes": true,
           "showland": true,
           "subunitcolor": "white"
          },
          "hoverlabel": {
           "align": "left"
          },
          "hovermode": "closest",
          "mapbox": {
           "style": "light"
          },
          "paper_bgcolor": "white",
          "plot_bgcolor": "#E5ECF6",
          "polar": {
           "angularaxis": {
            "gridcolor": "white",
            "linecolor": "white",
            "ticks": ""
           },
           "bgcolor": "#E5ECF6",
           "radialaxis": {
            "gridcolor": "white",
            "linecolor": "white",
            "ticks": ""
           }
          },
          "scene": {
           "xaxis": {
            "backgroundcolor": "#E5ECF6",
            "gridcolor": "white",
            "gridwidth": 2,
            "linecolor": "white",
            "showbackground": true,
            "ticks": "",
            "zerolinecolor": "white"
           },
           "yaxis": {
            "backgroundcolor": "#E5ECF6",
            "gridcolor": "white",
            "gridwidth": 2,
            "linecolor": "white",
            "showbackground": true,
            "ticks": "",
            "zerolinecolor": "white"
           },
           "zaxis": {
            "backgroundcolor": "#E5ECF6",
            "gridcolor": "white",
            "gridwidth": 2,
            "linecolor": "white",
            "showbackground": true,
            "ticks": "",
            "zerolinecolor": "white"
           }
          },
          "shapedefaults": {
           "line": {
            "color": "#2a3f5f"
           }
          },
          "ternary": {
           "aaxis": {
            "gridcolor": "white",
            "linecolor": "white",
            "ticks": ""
           },
           "baxis": {
            "gridcolor": "white",
            "linecolor": "white",
            "ticks": ""
           },
           "bgcolor": "#E5ECF6",
           "caxis": {
            "gridcolor": "white",
            "linecolor": "white",
            "ticks": ""
           }
          },
          "title": {
           "x": 0.05
          },
          "xaxis": {
           "automargin": true,
           "gridcolor": "white",
           "linecolor": "white",
           "ticks": "",
           "title": {
            "standoff": 15
           },
           "zerolinecolor": "white",
           "zerolinewidth": 2
          },
          "yaxis": {
           "automargin": true,
           "gridcolor": "white",
           "linecolor": "white",
           "ticks": "",
           "title": {
            "standoff": 15
           },
           "zerolinecolor": "white",
           "zerolinewidth": 2
          }
         }
        },
        "xaxis": {
         "anchor": "y",
         "autorange": true,
         "domain": [
          0,
          1
         ],
         "range": [
          -750.0000000000001,
          15050
         ],
         "title": {
          "text": "Price"
         },
         "type": "linear"
        },
        "xaxis2": {
         "anchor": "y2",
         "autorange": true,
         "domain": [
          0,
          1
         ],
         "matches": "x",
         "range": [
          -750.0000000000001,
          15050
         ],
         "showgrid": true,
         "showticklabels": false,
         "type": "linear"
        },
        "yaxis": {
         "anchor": "x",
         "autorange": true,
         "domain": [
          0,
          0.8316
         ],
         "range": [
          0,
          152.6315789473684
         ],
         "title": {
          "text": "count"
         }
        },
        "yaxis2": {
         "anchor": "x2",
         "autorange": true,
         "domain": [
          0.8416,
          1
         ],
         "matches": "y2",
         "range": [
          -0.5,
          0.5
         ],
         "showgrid": false,
         "showline": false,
         "showticklabels": false,
         "ticks": "",
         "type": "category"
        }
       }
      },
      "image/png": "[encoded data removed]",
      "text/html": [
       "<div>                            <div id=\"ec4fc565-864a-4463-9219-1c5f4cc68c97\" class=\"plotly-graph-div\" style=\"height:525px; width:100%;\"></div>            <script type=\"text/javascript\">                require([\"plotly\"], function(Plotly) {                    window.PLOTLYENV=window.PLOTLYENV || {};                                    if (document.getElementById(\"ec4fc565-864a-4463-9219-1c5f4cc68c97\")) {                    Plotly.newPlot(                        \"ec4fc565-864a-4463-9219-1c5f4cc68c97\",                        [{\"alignmentgroup\":\"True\",\"bingroup\":\"x\",\"hovertemplate\":\"Price=%{x}\\u003cbr\\u003ecount=%{y}\\u003cextra\\u003e\\u003c\\u002fextra\\u003e\",\"legendgroup\":\"\",\"marker\":{\"color\":\"#636efa\",\"pattern\":{\"shape\":\"\"}},\"name\":\"\",\"offsetgroup\":\"\",\"orientation\":\"v\",\"showlegend\":false,\"x\":[3040.0,3000.0,4000.0,1250.0,2074.0,4400.0,784.0,520.0,1432.0,3198.0,632.0,1278.0,110.0,472.0,560.0,1150.0,638.0,632.0,2900.0,3701.0,1600.0,2200.0,1264.0,3992.0,1800.0,2400.0,1450.0,1000.0,1440.0,792.0,1000.0,1200.0,2238.0,3692.0,240.0,958.0,1118.0,799.0,798.0,700.0,478.0,1278.0,472.0,741.0,880.0,360.0,400.0,478.0,638.0,850.0,638.0,638.0,798.0,1272.0,638.0,478.0,638.0,638.0,558.0,958.0,1276.0,472.0,880.0,638.0,450.0,1278.0,478.0,560.0,638.0,478.0,1438.0,960.0,478.0,632.0,413.0,1011.0,400.0,450.0,240.0,478.0,250.0,472.0,632.0,478.0,478.0,385.0,638.0,250.0,312.0,400.0,454.0,478.0,478.0,400.0,2878.0,250.0,250.0,144.0,588.0,638.0,250.0,500.0,472.0,450.0,312.0,250.0,280.0,638.0,413.0,450.0,560.0,250.0,360.0,414.0,993.0,160.0,816.0,792.0,400.0,632.0,850.0,1000.0,400.0,800.0,300.0,1950.0,3000.0,1750.0,918.0,472.0,958.0,720.0,250.0,958.0,1478.0,638.0,880.0,800.0,2078.0,1200.0,200.0,413.0,689.0,224.0,414.0,1118.0,160.0,560.0,413.0,717.0,560.0,255.0,632.0,952.0,600.0,560.0,958.0,698.0,350.0,880.0,1000.0,638.0,1040.0,350.0,958.0,1438.0,542.0,400.0,400.0,280.0,312.0,150.0,200.0,200.0,400.0,478.0,280.0,478.0,440.0,280.0,280.0,240.0,560.0,280.0,158.0,478.0,400.0,400.0,280.0,65.0,72.0,280.0,40.0,400.0,250.0,158.0,280.0,2878.0,798.0,200.0,1118.0,160.0,250.0,400.0,550.0,472.0,944.0,3120.0,560.0,632.0,152.0,1793.0,720.0,318.0,478.0,2199.0,220.0,400.0,2999.0,1200.0,4024.0,350.0,987.0,472.0,478.0,2485.0,1000.0,160.0,958.0,2663.0,1200.0,3437.0,720.0,152.0,3328.0,3954.0,1850.0,450.0,478.0,450.0,1118.0,800.0,312.0,1000.0,478.0,400.0,1200.0,1110.0,1440.0,952.0,880.0,374.0,638.0,318.0,472.0,638.0,1200.0,798.0,640.0,695.0,638.0,675.0,312.0,312.0,238.0,560.0,700.0,792.0,632.0,1120.0,958.0,472.0,320.0,1011.0,500.0,720.0,792.0,400.0,400.0,150.0,798.0,1112.0,1118.0,798.0,72.0,360.0,1118.0,798.0,80.0,1438.0,400.0,1438.0,1438.0,798.0,280.0,798.0,250.0,80.0,798.0,80.0,80.0,1118.0,80.0,1438.0,798.0,80.0,80.0,2878.0,798.0,80.0,798.0,400.0,80.0,80.0,56.0,958.0,798.0,798.0,400.0,275.0,2900.0,1432.0,3600.0,136.0,80.0,395.0,350.0,792.0,550.0,80.0,2200.0,2800.0,318.0,496.0,225.0,400.0,4800.0,1592.0,280.0,798.0,440.0,355.0,2000.0,2027.0,1020.0,550.0,400.0,280.0,280.0,500.0,1118.0,232.0,312.0,80.0,200.0,1598.0,1175.0,944.0,2000.0,790.0,250.0,1118.0,3040.0,560.0,1300.0,318.0,880.0,1275.0,450.0,638.0,250.0,1112.0,1758.0,1000.0,400.0,1118.0,750.0,592.0,632.0,798.0,787.0,1200.0,560.0,880.0,1920.0,798.0,400.0,560.0,312.0,395.0,486.0,3000.0,2726.0,472.0,960.0,632.0,240.0,200.0,1112.0,450.0,632.0,450.0,320.0,250.0,225.0,350.0,175.0,285.0,792.0,400.0,600.0,375.0,350.0,275.0,350.0,1600.0,250.0,299.0,398.0,455.0,300.0,920.0,350.0,200.0,325.0,456.0,275.0,250.0,495.0,345.0,1592.0,1112.0,550.0,375.0,640.0,395.0,798.0,798.0,638.0,1118.0,958.0,1278.0,1438.0,798.0,478.0,798.0,472.0,798.0,376.0,798.0,638.0,798.0,798.0,798.0,1278.0,360.0,958.0,958.0,400.0,958.0,798.0,312.0,560.0,638.0,638.0,369.0,688.0,958.0,472.0,1118.0,1118.0,2398.0,400.0,1904.0,798.0,230.0,1000.0,1600.0,2100.0,3198.0,1598.0,4800.0,6800.0,5104.0,3200.0,9792.0,3000.0,798.0,1142.0,4000.0,3417.0,4000.0,1918.0,1700.0,1000.0,2400.0,2560.0,14260.0,2000.0,1500.0,1918.0,5500.0,3600.0,1916.0,2549.0,1142.0,11360.0,1142.0,2400.0,206.0,300.0,800.0,240.0,800.0,200.0,344.0,600.0,2000.0,200.0,958.0,900.0,717.0,318.0,300.0,400.0,560.0,520.0,695.0,318.0,200.0,472.0,560.0,104.0,3692.0,880.0,238.0,120.0,798.0,1440.0,1112.0,472.0,128.0,120.0,460.0,136.0,400.0,632.0,760.0,638.0,280.0,400.0,472.0,1440.0,160.0,318.0,374.0,472.0,576.0,472.0,900.0,638.0,472.0,318.0,80.0,958.0,560.0,638.0,318.0,395.0,638.0,500.0,400.0,3518.0,472.0,958.0,638.0,798.0,400.0,1023.0,360.0,400.0,560.0,558.0,638.0,880.0,300.0,720.0,1438.0,395.0,318.0,280.0,1112.0,560.0,1200.0,1000.0,1440.0,478.0,440.0,100.0,952.0,312.0,952.0,798.0,360.0,206.0,312.0,400.0,318.0,900.0,638.0,300.0,958.0,600.0,1118.0,344.0,206.0,318.0,880.0,987.0,2288.0,400.0,1152.0,472.0,350.0,240.0,2000.0,238.0,792.0,500.0,1438.0,1278.0,798.0,1598.0,640.0,958.0,958.0,1918.0,1272.0,958.0,958.0,880.0,958.0,798.0,224.0,1200.0,958.0,958.0,2141.0,3198.0,478.0,5278.0,1118.0,4134.0,1278.0,958.0,400.0,632.0,1598.0,3198.0,1118.0,1758.0,1598.0,1278.0,638.0,958.0,958.0,1118.0,1360.0,3200.0,1793.0,4024.0,798.0,1011.0,4160.0,400.0,800.0,792.0,645.0,1280.0,472.0,472.0,395.0,2823.0,120.0,600.0,640.0,500.0,880.0,792.0,2243.0,2663.0,350.0,3120.0,632.0,3729.0,2774.0,3437.0,2878.0,3800.0,200.0,560.0,350.0,1142.0,395.0,952.0,500.0,720.0,450.0],\"xaxis\":\"x\",\"yaxis\":\"y\",\"type\":\"histogram\"},{\"alignmentgroup\":\"True\",\"hovertemplate\":\"Price=%{x}\\u003cextra\\u003e\\u003c\\u002fextra\\u003e\",\"legendgroup\":\"\",\"marker\":{\"color\":\"#636efa\"},\"name\":\"\",\"notched\":true,\"offsetgroup\":\"\",\"showlegend\":false,\"x\":[3040.0,3000.0,4000.0,1250.0,2074.0,4400.0,784.0,520.0,1432.0,3198.0,632.0,1278.0,110.0,472.0,560.0,1150.0,638.0,632.0,2900.0,3701.0,1600.0,2200.0,1264.0,3992.0,1800.0,2400.0,1450.0,1000.0,1440.0,792.0,1000.0,1200.0,2238.0,3692.0,240.0,958.0,1118.0,799.0,798.0,700.0,478.0,1278.0,472.0,741.0,880.0,360.0,400.0,478.0,638.0,850.0,638.0,638.0,798.0,1272.0,638.0,478.0,638.0,638.0,558.0,958.0,1276.0,472.0,880.0,638.0,450.0,1278.0,478.0,560.0,638.0,478.0,1438.0,960.0,478.0,632.0,413.0,1011.0,400.0,450.0,240.0,478.0,250.0,472.0,632.0,478.0,478.0,385.0,638.0,250.0,312.0,400.0,454.0,478.0,478.0,400.0,2878.0,250.0,250.0,144.0,588.0,638.0,250.0,500.0,472.0,450.0,312.0,250.0,280.0,638.0,413.0,450.0,560.0,250.0,360.0,414.0,993.0,160.0,816.0,792.0,400.0,632.0,850.0,1000.0,400.0,800.0,300.0,1950.0,3000.0,1750.0,918.0,472.0,958.0,720.0,250.0,958.0,1478.0,638.0,880.0,800.0,2078.0,1200.0,200.0,413.0,689.0,224.0,414.0,1118.0,160.0,560.0,413.0,717.0,560.0,255.0,632.0,952.0,600.0,560.0,958.0,698.0,350.0,880.0,1000.0,638.0,1040.0,350.0,958.0,1438.0,542.0,400.0,400.0,280.0,312.0,150.0,200.0,200.0,400.0,478.0,280.0,478.0,440.0,280.0,280.0,240.0,560.0,280.0,158.0,478.0,400.0,400.0,280.0,65.0,72.0,280.0,40.0,400.0,250.0,158.0,280.0,2878.0,798.0,200.0,1118.0,160.0,250.0,400.0,550.0,472.0,944.0,3120.0,560.0,632.0,152.0,1793.0,720.0,318.0,478.0,2199.0,220.0,400.0,2999.0,1200.0,4024.0,350.0,987.0,472.0,478.0,2485.0,1000.0,160.0,958.0,2663.0,1200.0,3437.0,720.0,152.0,3328.0,3954.0,1850.0,450.0,478.0,450.0,1118.0,800.0,312.0,1000.0,478.0,400.0,1200.0,1110.0,1440.0,952.0,880.0,374.0,638.0,318.0,472.0,638.0,1200.0,798.0,640.0,695.0,638.0,675.0,312.0,312.0,238.0,560.0,700.0,792.0,632.0,1120.0,958.0,472.0,320.0,1011.0,500.0,720.0,792.0,400.0,400.0,150.0,798.0,1112.0,1118.0,798.0,72.0,360.0,1118.0,798.0,80.0,1438.0,400.0,1438.0,1438.0,798.0,280.0,798.0,250.0,80.0,798.0,80.0,80.0,1118.0,80.0,1438.0,798.0,80.0,80.0,2878.0,798.0,80.0,798.0,400.0,80.0,80.0,56.0,958.0,798.0,798.0,400.0,275.0,2900.0,1432.0,3600.0,136.0,80.0,395.0,350.0,792.0,550.0,80.0,2200.0,2800.0,318.0,496.0,225.0,400.0,4800.0,1592.0,280.0,798.0,440.0,355.0,2000.0,2027.0,1020.0,550.0,400.0,280.0,280.0,500.0,1118.0,232.0,312.0,80.0,200.0,1598.0,1175.0,944.0,2000.0,790.0,250.0,1118.0,3040.0,560.0,1300.0,318.0,880.0,1275.0,450.0,638.0,250.0,1112.0,1758.0,1000.0,400.0,1118.0,750.0,592.0,632.0,798.0,787.0,1200.0,560.0,880.0,1920.0,798.0,400.0,560.0,312.0,395.0,486.0,3000.0,2726.0,472.0,960.0,632.0,240.0,200.0,1112.0,450.0,632.0,450.0,320.0,250.0,225.0,350.0,175.0,285.0,792.0,400.0,600.0,375.0,350.0,275.0,350.0,1600.0,250.0,299.0,398.0,455.0,300.0,920.0,350.0,200.0,325.0,456.0,275.0,250.0,495.0,345.0,1592.0,1112.0,550.0,375.0,640.0,395.0,798.0,798.0,638.0,1118.0,958.0,1278.0,1438.0,798.0,478.0,798.0,472.0,798.0,376.0,798.0,638.0,798.0,798.0,798.0,1278.0,360.0,958.0,958.0,400.0,958.0,798.0,312.0,560.0,638.0,638.0,369.0,688.0,958.0,472.0,1118.0,1118.0,2398.0,400.0,1904.0,798.0,230.0,1000.0,1600.0,2100.0,3198.0,1598.0,4800.0,6800.0,5104.0,3200.0,9792.0,3000.0,798.0,1142.0,4000.0,3417.0,4000.0,1918.0,1700.0,1000.0,2400.0,2560.0,14260.0,2000.0,1500.0,1918.0,5500.0,3600.0,1916.0,2549.0,1142.0,11360.0,1142.0,2400.0,206.0,300.0,800.0,240.0,800.0,200.0,344.0,600.0,2000.0,200.0,958.0,900.0,717.0,318.0,300.0,400.0,560.0,520.0,695.0,318.0,200.0,472.0,560.0,104.0,3692.0,880.0,238.0,120.0,798.0,1440.0,1112.0,472.0,128.0,120.0,460.0,136.0,400.0,632.0,760.0,638.0,280.0,400.0,472.0,1440.0,160.0,318.0,374.0,472.0,576.0,472.0,900.0,638.0,472.0,318.0,80.0,958.0,560.0,638.0,318.0,395.0,638.0,500.0,400.0,3518.0,472.0,958.0,638.0,798.0,400.0,1023.0,360.0,400.0,560.0,558.0,638.0,880.0,300.0,720.0,1438.0,395.0,318.0,280.0,1112.0,560.0,1200.0,1000.0,1440.0,478.0,440.0,100.0,952.0,312.0,952.0,798.0,360.0,206.0,312.0,400.0,318.0,900.0,638.0,300.0,958.0,600.0,1118.0,344.0,206.0,318.0,880.0,987.0,2288.0,400.0,1152.0,472.0,350.0,240.0,2000.0,238.0,792.0,500.0,1438.0,1278.0,798.0,1598.0,640.0,958.0,958.0,1918.0,1272.0,958.0,958.0,880.0,958.0,798.0,224.0,1200.0,958.0,958.0,2141.0,3198.0,478.0,5278.0,1118.0,4134.0,1278.0,958.0,400.0,632.0,1598.0,3198.0,1118.0,1758.0,1598.0,1278.0,638.0,958.0,958.0,1118.0,1360.0,3200.0,1793.0,4024.0,798.0,1011.0,4160.0,400.0,800.0,792.0,645.0,1280.0,472.0,472.0,395.0,2823.0,120.0,600.0,640.0,500.0,880.0,792.0,2243.0,2663.0,350.0,3120.0,632.0,3729.0,2774.0,3437.0,2878.0,3800.0,200.0,560.0,350.0,1142.0,395.0,952.0,500.0,720.0,450.0],\"xaxis\":\"x2\",\"yaxis\":\"y2\",\"type\":\"box\"}],                        {\"template\":{\"data\":{\"histogram2dcontour\":[{\"type\":\"histogram2dcontour\",\"colorbar\":{\"outlinewidth\":0,\"ticks\":\"\"},\"colorscale\":[[0.0,\"#0d0887\"],[0.1111111111111111,\"#46039f\"],[0.2222222222222222,\"#7201a8\"],[0.3333333333333333,\"#9c179e\"],[0.4444444444444444,\"#bd3786\"],[0.5555555555555556,\"#d8576b\"],[0.6666666666666666,\"#ed7953\"],[0.7777777777777778,\"#fb9f3a\"],[0.8888888888888888,\"#fdca26\"],[1.0,\"#f0f921\"]]}],\"choropleth\":[{\"type\":\"choropleth\",\"colorbar\":{\"outlinewidth\":0,\"ticks\":\"\"}}],\"histogram2d\":[{\"type\":\"histogram2d\",\"colorbar\":{\"outlinewidth\":0,\"ticks\":\"\"},\"colorscale\":[[0.0,\"#0d0887\"],[0.1111111111111111,\"#46039f\"],[0.2222222222222222,\"#7201a8\"],[0.3333333333333333,\"#9c179e\"],[0.4444444444444444,\"#bd3786\"],[0.5555555555555556,\"#d8576b\"],[0.6666666666666666,\"#ed7953\"],[0.7777777777777778,\"#fb9f3a\"],[0.8888888888888888,\"#fdca26\"],[1.0,\"#f0f921\"]]}],\"heatmap\":[{\"type\":\"heatmap\",\"colorbar\":{\"outlinewidth\":0,\"ticks\":\"\"},\"colorscale\":[[0.0,\"#0d0887\"],[0.1111111111111111,\"#46039f\"],[0.2222222222222222,\"#7201a8\"],[0.3333333333333333,\"#9c179e\"],[0.4444444444444444,\"#bd3786\"],[0.5555555555555556,\"#d8576b\"],[0.6666666666666666,\"#ed7953\"],[0.7777777777777778,\"#fb9f3a\"],[0.8888888888888888,\"#fdca26\"],[1.0,\"#f0f921\"]]}],\"heatmapgl\":[{\"type\":\"heatmapgl\",\"colorbar\":{\"outlinewidth\":0,\"ticks\":\"\"},\"colorscale\":[[0.0,\"#0d0887\"],[0.1111111111111111,\"#46039f\"],[0.2222222222222222,\"#7201a8\"],[0.3333333333333333,\"#9c179e\"],[0.4444444444444444,\"#bd3786\"],[0.5555555555555556,\"#d8576b\"],[0.6666666666666666,\"#ed7953\"],[0.7777777777777778,\"#fb9f3a\"],[0.8888888888888888,\"#fdca26\"],[1.0,\"#f0f921\"]]}],\"contourcarpet\":[{\"type\":\"contourcarpet\",\"colorbar\":{\"outlinewidth\":0,\"ticks\":\"\"}}],\"contour\":[{\"type\":\"contour\",\"colorbar\":{\"outlinewidth\":0,\"ticks\":\"\"},\"colorscale\":[[0.0,\"#0d0887\"],[0.1111111111111111,\"#46039f\"],[0.2222222222222222,\"#7201a8\"],[0.3333333333333333,\"#9c179e\"],[0.4444444444444444,\"#bd3786\"],[0.5555555555555556,\"#d8576b\"],[0.6666666666666666,\"#ed7953\"],[0.7777777777777778,\"#fb9f3a\"],[0.8888888888888888,\"#fdca26\"],[1.0,\"#f0f921\"]]}],\"surface\":[{\"type\":\"surface\",\"colorbar\":{\"outlinewidth\":0,\"ticks\":\"\"},\"colorscale\":[[0.0,\"#0d0887\"],[0.1111111111111111,\"#46039f\"],[0.2222222222222222,\"#7201a8\"],[0.3333333333333333,\"#9c179e\"],[0.4444444444444444,\"#bd3786\"],[0.5555555555555556,\"#d8576b\"],[0.6666666666666666,\"#ed7953\"],[0.7777777777777778,\"#fb9f3a\"],[0.8888888888888888,\"#fdca26\"],[1.0,\"#f0f921\"]]}],\"mesh3d\":[{\"type\":\"mesh3d\",\"colorbar\":{\"outlinewidth\":0,\"ticks\":\"\"}}],\"scatter\":[{\"fillpattern\":{\"fillmode\":\"overlay\",\"size\":10,\"solidity\":0.2},\"type\":\"scatter\"}],\"parcoords\":[{\"type\":\"parcoords\",\"line\":{\"colorbar\":{\"outlinewidth\":0,\"ticks\":\"\"}}}],\"scatterpolargl\":[{\"type\":\"scatterpolargl\",\"marker\":{\"colorbar\":{\"outlinewidth\":0,\"ticks\":\"\"}}}],\"bar\":[{\"error_x\":{\"color\":\"#2a3f5f\"},\"error_y\":{\"color\":\"#2a3f5f\"},\"marker\":{\"line\":{\"color\":\"#E5ECF6\",\"width\":0.5},\"pattern\":{\"fillmode\":\"overlay\",\"size\":10,\"solidity\":0.2}},\"type\":\"bar\"}],\"scattergeo\":[{\"type\":\"scattergeo\",\"marker\":{\"colorbar\":{\"outlinewidth\":0,\"ticks\":\"\"}}}],\"scatterpolar\":[{\"type\":\"scatterpolar\",\"marker\":{\"colorbar\":{\"outlinewidth\":0,\"ticks\":\"\"}}}],\"histogram\":[{\"marker\":{\"pattern\":{\"fillmode\":\"overlay\",\"size\":10,\"solidity\":0.2}},\"type\":\"histogram\"}],\"scattergl\":[{\"type\":\"scattergl\",\"marker\":{\"colorbar\":{\"outlinewidth\":0,\"ticks\":\"\"}}}],\"scatter3d\":[{\"type\":\"scatter3d\",\"line\":{\"colorbar\":{\"outlinewidth\":0,\"ticks\":\"\"}},\"marker\":{\"colorbar\":{\"outlinewidth\":0,\"ticks\":\"\"}}}],\"scattermapbox\":[{\"type\":\"scattermapbox\",\"marker\":{\"colorbar\":{\"outlinewidth\":0,\"ticks\":\"\"}}}],\"scatterternary\":[{\"type\":\"scatterternary\",\"marker\":{\"colorbar\":{\"outlinewidth\":0,\"ticks\":\"\"}}}],\"scattercarpet\":[{\"type\":\"scattercarpet\",\"marker\":{\"colorbar\":{\"outlinewidth\":0,\"ticks\":\"\"}}}],\"carpet\":[{\"aaxis\":{\"endlinecolor\":\"#2a3f5f\",\"gridcolor\":\"white\",\"linecolor\":\"white\",\"minorgridcolor\":\"white\",\"startlinecolor\":\"#2a3f5f\"},\"baxis\":{\"endlinecolor\":\"#2a3f5f\",\"gridcolor\":\"white\",\"linecolor\":\"white\",\"minorgridcolor\":\"white\",\"startlinecolor\":\"#2a3f5f\"},\"type\":\"carpet\"}],\"table\":[{\"cells\":{\"fill\":{\"color\":\"#EBF0F8\"},\"line\":{\"color\":\"white\"}},\"header\":{\"fill\":{\"color\":\"#C8D4E3\"},\"line\":{\"color\":\"white\"}},\"type\":\"table\"}],\"barpolar\":[{\"marker\":{\"line\":{\"color\":\"#E5ECF6\",\"width\":0.5},\"pattern\":{\"fillmode\":\"overlay\",\"size\":10,\"solidity\":0.2}},\"type\":\"barpolar\"}],\"pie\":[{\"automargin\":true,\"type\":\"pie\"}]},\"layout\":{\"autotypenumbers\":\"strict\",\"colorway\":[\"#636efa\",\"#EF553B\",\"#00cc96\",\"#ab63fa\",\"#FFA15A\",\"#19d3f3\",\"#FF6692\",\"#B6E880\",\"#FF97FF\",\"#FECB52\"],\"font\":{\"color\":\"#2a3f5f\"},\"hovermode\":\"closest\",\"hoverlabel\":{\"align\":\"left\"},\"paper_bgcolor\":\"white\",\"plot_bgcolor\":\"#E5ECF6\",\"polar\":{\"bgcolor\":\"#E5ECF6\",\"angularaxis\":{\"gridcolor\":\"white\",\"linecolor\":\"white\",\"ticks\":\"\"},\"radialaxis\":{\"gridcolor\":\"white\",\"linecolor\":\"white\",\"ticks\":\"\"}},\"ternary\":{\"bgcolor\":\"#E5ECF6\",\"aaxis\":{\"gridcolor\":\"white\",\"linecolor\":\"white\",\"ticks\":\"\"},\"baxis\":{\"gridcolor\":\"white\",\"linecolor\":\"white\",\"ticks\":\"\"},\"caxis\":{\"gridcolor\":\"white\",\"linecolor\":\"white\",\"ticks\":\"\"}},\"coloraxis\":{\"colorbar\":{\"outlinewidth\":0,\"ticks\":\"\"}},\"colorscale\":{\"sequential\":[[0.0,\"#0d0887\"],[0.1111111111111111,\"#46039f\"],[0.2222222222222222,\"#7201a8\"],[0.3333333333333333,\"#9c179e\"],[0.4444444444444444,\"#bd3786\"],[0.5555555555555556,\"#d8576b\"],[0.6666666666666666,\"#ed7953\"],[0.7777777777777778,\"#fb9f3a\"],[0.8888888888888888,\"#fdca26\"],[1.0,\"#f0f921\"]],\"sequentialminus\":[[0.0,\"#0d0887\"],[0.1111111111111111,\"#46039f\"],[0.2222222222222222,\"#7201a8\"],[0.3333333333333333,\"#9c179e\"],[0.4444444444444444,\"#bd3786\"],[0.5555555555555556,\"#d8576b\"],[0.6666666666666666,\"#ed7953\"],[0.7777777777777778,\"#fb9f3a\"],[0.8888888888888888,\"#fdca26\"],[1.0,\"#f0f921\"]],\"diverging\":[[0,\"#8e0152\"],[0.1,\"#c51b7d\"],[0.2,\"#de77ae\"],[0.3,\"#f1b6da\"],[0.4,\"#fde0ef\"],[0.5,\"#f7f7f7\"],[0.6,\"#e6f5d0\"],[0.7,\"#b8e186\"],[0.8,\"#7fbc41\"],[0.9,\"#4d9221\"],[1,\"#276419\"]]},\"xaxis\":{\"gridcolor\":\"white\",\"linecolor\":\"white\",\"ticks\":\"\",\"title\":{\"standoff\":15},\"zerolinecolor\":\"white\",\"automargin\":true,\"zerolinewidth\":2},\"yaxis\":{\"gridcolor\":\"white\",\"linecolor\":\"white\",\"ticks\":\"\",\"title\":{\"standoff\":15},\"zerolinecolor\":\"white\",\"automargin\":true,\"zerolinewidth\":2},\"scene\":{\"xaxis\":{\"backgroundcolor\":\"#E5ECF6\",\"gridcolor\":\"white\",\"linecolor\":\"white\",\"showbackground\":true,\"ticks\":\"\",\"zerolinecolor\":\"white\",\"gridwidth\":2},\"yaxis\":{\"backgroundcolor\":\"#E5ECF6\",\"gridcolor\":\"white\",\"linecolor\":\"white\",\"showbackground\":true,\"ticks\":\"\",\"zerolinecolor\":\"white\",\"gridwidth\":2},\"zaxis\":{\"backgroundcolor\":\"#E5ECF6\",\"gridcolor\":\"white\",\"linecolor\":\"white\",\"showbackground\":true,\"ticks\":\"\",\"zerolinecolor\":\"white\",\"gridwidth\":2}},\"shapedefaults\":{\"line\":{\"color\":\"#2a3f5f\"}},\"annotationdefaults\":{\"arrowcolor\":\"#2a3f5f\",\"arrowhead\":0,\"arrowwidth\":1},\"geo\":{\"bgcolor\":\"white\",\"landcolor\":\"#E5ECF6\",\"subunitcolor\":\"white\",\"showland\":true,\"showlakes\":true,\"lakecolor\":\"white\"},\"title\":{\"x\":0.05},\"mapbox\":{\"style\":\"light\"}}},\"xaxis\":{\"anchor\":\"y\",\"domain\":[0.0,1.0],\"title\":{\"text\":\"Price\"}},\"yaxis\":{\"anchor\":\"x\",\"domain\":[0.0,0.8316],\"title\":{\"text\":\"count\"}},\"xaxis2\":{\"anchor\":\"y2\",\"domain\":[0.0,1.0],\"matches\":\"x\",\"showticklabels\":false,\"showgrid\":true},\"yaxis2\":{\"anchor\":\"x2\",\"domain\":[0.8416,1.0],\"matches\":\"y2\",\"showticklabels\":false,\"showline\":false,\"ticks\":\"\",\"showgrid\":false},\"legend\":{\"tracegroupgap\":0},\"margin\":{\"t\":60},\"barmode\":\"relative\"},                        {\"responsive\": true}                    ).then(function(){\n",
       "                            \n",
       "var gd = document.getElementById('ec4fc565-864a-4463-9219-1c5f4cc68c97');\n",
       "var x = new MutationObserver(function (mutations, observer) {{\n",
       "        var display = window.getComputedStyle(gd).display;\n",
       "        if (!display || display === 'none') {{\n",
       "            console.log([gd, 'removed!']);\n",
       "            Plotly.purge(gd);\n",
       "            observer.disconnect();\n",
       "        }}\n",
       "}});\n",
       "\n",
       "// Listen for the removal of the full notebook cells\n",
       "var notebookContainer = gd.closest('#notebook-container');\n",
       "if (notebookContainer) {{\n",
       "    x.observe(notebookContainer, {childList: true});\n",
       "}}\n",
       "\n",
       "// Listen for the clearing of the current output cell\n",
       "var outputEl = gd.closest('.output');\n",
       "if (outputEl) {{\n",
       "    x.observe(outputEl, {childList: true});\n",
       "}}\n",
       "\n",
       "                        })                };                });            </script>        </div>"
      ]
     },
     "metadata": {},
     "output_type": "display_data"
    }
   ],
   "source": [
    "fig = px.histogram(df, x=\"Price\", marginal=\"box\")\n",
    "fig.show()"
   ]
  },
  {
   "cell_type": "code",
   "execution_count": null,
   "id": "32bacf98-1074-48a4-8cc3-9adbde9c9e1b",
   "metadata": {},
   "outputs": [],
   "source": []
  }
 ],
 "metadata": {
  "kernelspec": {
   "display_name": "Python 3 (ipykernel)",
   "language": "python",
   "name": "python3"
  },
  "language_info": {
   "codemirror_mode": {
    "name": "ipython",
    "version": 3
   },
   "file_extension": ".py",
   "mimetype": "text/x-python",
   "name": "python",
   "nbconvert_exporter": "python",
   "pygments_lexer": "ipython3",
   "version": "3.11.10"
  }
 },
 "nbformat": 4,
 "nbformat_minor": 5
}
